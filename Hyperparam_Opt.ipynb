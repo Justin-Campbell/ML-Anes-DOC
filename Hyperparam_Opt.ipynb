{
  "cells": [
    {
      "cell_type": "markdown",
      "source": [
        "# Hyperparameter Optimization"
      ],
      "metadata": {}
    },
    {
      "cell_type": "markdown",
      "source": [
        "V1: 04/14/19 | Justin Campbell | justin.campbell@hsc.utah.edu"
      ],
      "metadata": {}
    },
    {
      "cell_type": "markdown",
      "source": [
        "Here, we evaluate a broad hyperparameter space for two models (i.e., SVC, ET) using the method of nested cross validation (aka \"double cross validation\"). *Nested cross validation* uses an inner cross validation (for parameter tuning) wrapped in an outer cross validation (for model evaluation). Our pipeline uses a 100x5 approach, wherein the full dataset is partitioned into 100 stratified outer-folds (80/20 split, equal class representation), and each outer-fold is further partitioned into 5 stratified inner-folds (80/20 split, equal class representation).  \n",
        "\n",
        "Within the inner cross validation loop, we use an automated hyperparameter optimization tool (_Hyperopt-sklearn_) to iteratively evaluate different hyperparameter combinations (50 test epochs). This nested cross validation approach provides an unbiased estimate of performance by evaluating model performance on an independent validation dataset not used in training or optimization.  \n",
        "\n"
      ],
      "metadata": {}
    },
    {
      "cell_type": "markdown",
      "source": [
        "## Import Helper Libraries"
      ],
      "metadata": {}
    },
    {
      "cell_type": "markdown",
      "source": [
        "This script uses a handful of common python libraries (e.g., _numpy_, _pandas_, _sklearn_) in addition to the _Hyperopt_ library (https://github.com/hyperopt/hyperopt)"
      ],
      "metadata": {}
    },
    {
      "cell_type": "code",
      "source": [
        "import numpy as np\n",
        "import pandas as pd\n",
        "from hyperopt import fmin, tpe, hp, STATUS_OK, Trials\n",
        "\n",
        "from sklearn.svm import SVC\n",
        "from sklearn.ensemble import ExtraTreesClassifier\n",
        "\n",
        "from sklearn.metrics import accuracy_score, roc_auc_score\n",
        "from sklearn.model_selection import StratifiedShuffleSplit, StratifiedKFold, cross_val_score"
      ],
      "outputs": [],
      "execution_count": null,
      "metadata": {
        "collapsed": false,
        "outputHidden": false,
        "inputHidden": false
      }
    },
    {
      "cell_type": "markdown",
      "source": [
        "## Import & Prepare Data"
      ],
      "metadata": {}
    },
    {
      "cell_type": "code",
      "source": [
        "# Import Dataset (as Pandas Dataframe)\n",
        "data = pd.read_csv('/Users/justincampbell/Library/CloudStorage/iCloud Drive/Research/CCS/ML-AnesDOC/Data/data_Anes.csv', index_col=0)\n",
        "\n",
        "# Shuffle rows & re-index\n",
        "data = data.sample(frac=1, axis=0).reset_index(drop=True)\n",
        "\n",
        "# Preview data\n",
        "data.head()"
      ],
      "outputs": [],
      "execution_count": null,
      "metadata": {
        "collapsed": false,
        "outputHidden": false,
        "inputHidden": false
      }
    },
    {
      "cell_type": "code",
      "source": [
        "# Specify features and label\n",
        "features = data.columns.drop(['State', 'Dataset', 'Cond'])\n",
        "# features = ['DMN_ALFF', 'FPTC_ALFF', 'SAL_ALFF', 'AUDI', 'COTC', 'DA', 'DMN', 'FPTC', 'SS', 'VA', 'VIS', 'AUDI_COTC', 'COTC_SS', 'AUDI_DA', 'COTC_DA', 'DA_SS', 'AUDI_SAL', 'AUDI_SS', 'DMN_SS', 'AUDI_SUB', 'SAL_SUB', 'COTC_VA', 'SAL_VA', 'SS_VA', 'SUB_VA', 'AUDI_VIS', 'COTC_VIS', 'DA_VIS', 'DMN_VIS', 'SS_VIS', 'VA_VIS', 'Global']\n",
        "label = ['State']\n",
        "\n",
        "X = data[features]\n",
        "y = data[label]"
      ],
      "outputs": [],
      "execution_count": null,
      "metadata": {
        "collapsed": false,
        "outputHidden": false,
        "inputHidden": false
      }
    },
    {
      "cell_type": "markdown",
      "source": [
        "## Prepare for Hyperopt"
      ],
      "metadata": {}
    },
    {
      "cell_type": "markdown",
      "source": [
        "To run _Hyperopt_, you must first define the hyperparameters to optimize and the range of possible values (_hparam_space_).  \n",
        "\n",
        "_hp.uniform_ for continuous hyperparameters  \n",
        "_hp.choice_ for nominal hyperparameters"
      ],
      "metadata": {}
    },
    {
      "cell_type": "code",
      "source": [
        "# Define hyperparameter space for models\n",
        "kernels = ['linear', 'sigmoid', 'poly', 'rbf']\n",
        "max_depths = [1,2,3,4,5]\n",
        "max_features = [1,2,3,4,5]\n",
        "n_estimators = [50, 100, 250, 500, 750, 1000, 1250, 1500, 1750, 2000]\n",
        "criterions = ['gini', 'entropy']\n",
        "\n",
        "hparam_space = {\n",
        "    'SVC': {'C': hp.uniform('C', 2**-5,2**5),\n",
        "            'kernel': hp.choice('kernel', kernels),\n",
        "            'gamma': hp.uniform('gamma', 2**-5,2**5)},\n",
        "\n",
        "    'ET': {'max_depth': hp.choice('max_depth', max_depths),\n",
        "            'max_features': hp.choice('max_features', max_features),\n",
        "            'n_estimators': hp.choice('n_estimators', n_estimators),\n",
        "            'criterion': hp.choice('criterion', criterions)}}\n",
        "\n",
        "# Create empty dictionary for optimized hyperparams\n",
        "opt_hparams = {}"
      ],
      "outputs": [],
      "execution_count": 31,
      "metadata": {
        "collapsed": false,
        "outputHidden": false,
        "inputHidden": false
      }
    },
    {
      "cell_type": "markdown",
      "source": [
        "### Define Cross-Validation Folds"
      ],
      "metadata": {}
    },
    {
      "cell_type": "code",
      "source": [
        "# Create inner and outer folds\n",
        "inner_folds = 5\n",
        "outer_folds = 100\n",
        "\n",
        "# Split into stratified 80/20 sub-samples\n",
        "inner_cv = StratifiedShuffleSplit(n_splits=inner_folds, train_size=0.80)\n",
        "outer_cv = StratifiedShuffleSplit(n_splits=outer_folds, train_size=0.80)\n",
        "\n",
        "# Create empty lists to store dataframe indices for each fold\n",
        "val_idxs = []\n",
        "opt_idxs = []\n",
        "\n",
        "# Get indices from full dataset, split into stratified 80/20 optimization/validation folds\n",
        "for opt_idx, val_idx in outer_cv.split(X,y):\n",
        "    val_idxs.append(val_idx)\n",
        "    opt_idxs.append(opt_idx)"
      ],
      "outputs": [],
      "execution_count": 32,
      "metadata": {
        "collapsed": false,
        "outputHidden": false,
        "inputHidden": false
      }
    },
    {
      "cell_type": "markdown",
      "source": [
        "### Define Functions Used in Hyperparameter Optimization"
      ],
      "metadata": {}
    },
    {
      "cell_type": "code",
      "source": [
        "def hyperparam_opt(params):\n",
        "    '''Hyperparameter optimization w/ Monte Carlo Cross Validation'''\n",
        "\n",
        "    # import global variables\n",
        "    global model\n",
        "    global X_opt\n",
        "    global y_opt\n",
        "    \n",
        "    if model == 'SVC':\n",
        "        # construct Support Vector Classifier\n",
        "        clf = SVC(**params)\n",
        "        \n",
        "    elif model == 'ET':\n",
        "        # construct Extra Trees\n",
        "        clf = ExtraTreesClassifier(**params)\n",
        "    \n",
        "    # Inner Cross-Validation w/ Stratified K-Fold CV\n",
        "    inner_cv_aucs = cross_val_score(clf, X_opt, y_opt, cv=inner_cv, scoring='roc_auc')\n",
        "                              \n",
        "    # return the average ROC-AUC across all inner folds\n",
        "    return inner_cv_aucs.mean()"
      ],
      "outputs": [],
      "execution_count": 33,
      "metadata": {
        "collapsed": false,
        "outputHidden": false,
        "inputHidden": false
      }
    },
    {
      "cell_type": "code",
      "source": [
        "def f(params):\n",
        "    '''Helper-function built to run hyperopt'''\n",
        "\n",
        "    auc = hyperparam_opt(params)\n",
        "    return {'loss': -auc, 'status': STATUS_OK}"
      ],
      "outputs": [],
      "execution_count": 34,
      "metadata": {
        "collapsed": false,
        "outputHidden": false,
        "inputHidden": false
      }
    },
    {
      "cell_type": "markdown",
      "source": [
        "## Run Hyperparameter Optimization"
      ],
      "metadata": {}
    },
    {
      "cell_type": "markdown",
      "source": [
        "### Support Vector Machine Classifier (SVC)"
      ],
      "metadata": {}
    },
    {
      "cell_type": "code",
      "source": [
        "# Define model\n",
        "model = 'SVC'\n",
        "\n",
        "# Create empty lists to store validation AUC and associated hyperparameters\n",
        "outer_cv_aucs = []\n",
        "fold_hparams = []\n",
        "\n",
        "# Loop through outer folds\n",
        "for i in range(outer_folds):\n",
        "    # Partition into optimization dataset and validation dataset\n",
        "    X_opt, y_opt = X.loc[opt_idxs[i]], np.ravel(np.asarray(y.loc[opt_idxs[i]]))\n",
        "    X_val, y_val = X.loc[val_idxs[i]], np.ravel(np.asarray(y.loc[val_idxs[i]]))\n",
        "    \n",
        "    # Run Hyperopt\n",
        "    trials = Trials()\n",
        "    best = fmin(fn=f, space=hparam_space[model], algo=tpe.suggest, max_evals=50, trials=trials)\n",
        "    \n",
        "    # Define model using best inner loop hyperparameters\n",
        "    opt_model = SVC(C=best['C'], \n",
        "                gamma = best['gamma'], \n",
        "                kernel = kernels[best['kernel']])       \n",
        "    \n",
        "    # Train on optimization dataset, test validation dataset AUC\n",
        "    opt_model.fit(X_opt, pd.Series(y_opt))\n",
        "    preds = opt_model.predict(X_val)\n",
        "    opt_auc = roc_auc_score(y_val, preds)\n",
        "    \n",
        "    # Save performance and hyperparameters\n",
        "    outer_cv_aucs.append(opt_auc)\n",
        "    fold_hparams.append(best)\n",
        "    \n",
        "# Store in dataframe, sort outer loops by validation AUC, grab best performance\n",
        "SVC_report = pd.DataFrame(data={'Validation AUC': outer_cv_aucs,\n",
        "                                'Hyperparameters': fold_hparams})\n",
        "SVC_report = SVC_report.sort_values('Validation AUC',ascending=False)\n",
        "opt_hparams['SVC'] = SVC_report.iloc[0]['Hyperparameters']\n",
        "SVC_report.head()"
      ],
      "outputs": [
        {
          "output_type": "stream",
          "name": "stdout",
          "text": [
            "100%|██████████| 50/50 [00:01<00:00, 37.96it/s, best loss: -0.9836734693877551]\n",
            "100%|██████████| 50/50 [00:01<00:00, 40.27it/s, best loss: -0.9877551020408163]\n",
            "100%|██████████| 50/50 [00:01<00:00, 41.29it/s, best loss: -0.9959183673469388]\n",
            "100%|██████████| 50/50 [00:01<00:00, 42.40it/s, best loss: -0.9959183673469388]\n",
            "100%|██████████| 50/50 [00:01<00:00, 42.20it/s, best loss: -1.0]               \n",
            "100%|██████████| 50/50 [00:01<00:00, 40.75it/s, best loss: -1.0]               \n",
            "100%|██████████| 50/50 [00:01<00:00, 41.81it/s, best loss: -1.0]              \n",
            "100%|██████████| 50/50 [00:01<00:00, 40.53it/s, best loss: -0.9959183673469388]\n",
            "100%|██████████| 50/50 [00:01<00:00, 41.49it/s, best loss: -0.9918367346938777]\n",
            "100%|██████████| 50/50 [00:01<00:00, 41.23it/s, best loss: -0.9877551020408164]\n",
            "100%|██████████| 50/50 [00:01<00:00, 44.14it/s, best loss: -0.9959183673469388]\n",
            "100%|██████████| 50/50 [00:01<00:00, 37.96it/s, best loss: -1.0]              \n",
            "100%|██████████| 50/50 [00:01<00:00, 41.97it/s, best loss: -0.9877551020408163]\n",
            "100%|██████████| 50/50 [00:01<00:00, 39.70it/s, best loss: -0.9918367346938777]\n",
            "100%|██████████| 50/50 [00:01<00:00, 39.83it/s, best loss: -0.9959183673469388]\n",
            "100%|██████████| 50/50 [00:01<00:00, 42.23it/s, best loss: -0.9795918367346939]\n",
            "100%|██████████| 50/50 [00:01<00:00, 41.52it/s, best loss: -0.9755102040816326]\n",
            "100%|██████████| 50/50 [00:01<00:00, 39.89it/s, best loss: -0.9959183673469388]\n",
            "100%|██████████| 50/50 [00:01<00:00, 43.06it/s, best loss: -1.0]\n",
            "100%|██████████| 50/50 [00:01<00:00, 43.76it/s, best loss: -0.9795918367346939]\n",
            "100%|██████████| 50/50 [00:01<00:00, 41.53it/s, best loss: -0.9877551020408164]\n",
            "100%|██████████| 50/50 [00:01<00:00, 41.11it/s, best loss: -0.9959183673469388]\n",
            "100%|██████████| 50/50 [00:01<00:00, 43.25it/s, best loss: -0.9755102040816326]\n",
            "100%|██████████| 50/50 [00:01<00:00, 41.13it/s, best loss: -1.0]\n",
            "100%|██████████| 50/50 [00:01<00:00, 42.64it/s, best loss: -0.9877551020408164]\n",
            "100%|██████████| 50/50 [00:01<00:00, 45.45it/s, best loss: -0.9918367346938777]\n",
            "100%|██████████| 50/50 [00:01<00:00, 42.27it/s, best loss: -0.9795918367346939]\n",
            "100%|██████████| 50/50 [00:01<00:00, 42.53it/s, best loss: -0.9959183673469388]\n",
            "100%|██████████| 50/50 [00:01<00:00, 44.24it/s, best loss: -0.9795918367346939]\n",
            "100%|██████████| 50/50 [00:01<00:00, 43.16it/s, best loss: -0.9918367346938777]\n",
            "100%|██████████| 50/50 [00:01<00:00, 42.19it/s, best loss: -0.9918367346938777]\n",
            "100%|██████████| 50/50 [00:01<00:00, 43.12it/s, best loss: -1.0]\n",
            "100%|██████████| 50/50 [00:01<00:00, 41.64it/s, best loss: -0.9918367346938777]\n",
            "100%|██████████| 50/50 [00:01<00:00, 40.55it/s, best loss: -0.9918367346938777]\n",
            "100%|██████████| 50/50 [00:01<00:00, 39.19it/s, best loss: -1.0]               \n",
            "100%|██████████| 50/50 [00:01<00:00, 38.38it/s, best loss: -1.0]              \n",
            "100%|██████████| 50/50 [00:01<00:00, 38.22it/s, best loss: -0.9959183673469388]\n",
            "100%|██████████| 50/50 [00:01<00:00, 37.41it/s, best loss: -0.9877551020408163]\n",
            "100%|██████████| 50/50 [00:01<00:00, 41.06it/s, best loss: -1.0]               \n",
            "100%|██████████| 50/50 [00:01<00:00, 41.38it/s, best loss: -1.0]               \n",
            "100%|██████████| 50/50 [00:01<00:00, 41.12it/s, best loss: -0.9877551020408163]\n",
            "100%|██████████| 50/50 [00:01<00:00, 42.60it/s, best loss: -1.0]               \n",
            "100%|██████████| 50/50 [00:01<00:00, 42.58it/s, best loss: -1.0]               \n",
            "100%|██████████| 50/50 [00:01<00:00, 42.70it/s, best loss: -0.9877551020408163]\n",
            "100%|██████████| 50/50 [00:01<00:00, 41.41it/s, best loss: -0.9918367346938777]\n",
            "100%|██████████| 50/50 [00:01<00:00, 42.80it/s, best loss: -0.9959183673469388]\n",
            "100%|██████████| 50/50 [00:01<00:00, 41.62it/s, best loss: -1.0]               \n",
            "100%|██████████| 50/50 [00:01<00:00, 42.32it/s, best loss: -0.9959183673469388]\n",
            "100%|██████████| 50/50 [00:01<00:00, 41.64it/s, best loss: -1.0]               \n",
            "100%|██████████| 50/50 [00:02<00:00, 21.43it/s, best loss: -0.9959183673469388]\n",
            "100%|██████████| 50/50 [00:01<00:00, 39.00it/s, best loss: -0.9959183673469388]\n",
            "100%|██████████| 50/50 [00:01<00:00, 41.71it/s, best loss: -0.9836734693877551]\n",
            "100%|██████████| 50/50 [00:01<00:00, 41.65it/s, best loss: -0.9959183673469388]\n",
            "100%|██████████| 50/50 [00:01<00:00, 36.84it/s, best loss: -1.0]\n",
            "100%|██████████| 50/50 [00:01<00:00, 43.40it/s, best loss: -1.0]               \n",
            "100%|██████████| 50/50 [00:01<00:00, 44.91it/s, best loss: -0.9918367346938777]\n",
            "100%|██████████| 50/50 [00:01<00:00, 45.18it/s, best loss: -0.9836734693877551]\n",
            "100%|██████████| 50/50 [00:01<00:00, 38.07it/s, best loss: -0.9918367346938777]\n",
            "100%|██████████| 50/50 [00:01<00:00, 39.68it/s, best loss: -0.9959183673469388]\n",
            "100%|██████████| 50/50 [00:01<00:00, 38.38it/s, best loss: -0.9918367346938777]\n",
            "100%|██████████| 50/50 [00:01<00:00, 42.36it/s, best loss: -1.0]               \n",
            "100%|██████████| 50/50 [00:01<00:00, 37.27it/s, best loss: -0.9918367346938777]\n",
            "100%|██████████| 50/50 [00:01<00:00, 40.53it/s, best loss: -1.0]              \n",
            "100%|██████████| 50/50 [00:01<00:00, 41.22it/s, best loss: -1.0]\n",
            "100%|██████████| 50/50 [00:01<00:00, 38.97it/s, best loss: -1.0]               \n",
            "100%|██████████| 50/50 [00:01<00:00, 40.13it/s, best loss: -0.9836734693877551]\n",
            "100%|██████████| 50/50 [00:01<00:00, 39.30it/s, best loss: -1.0]               \n",
            "100%|██████████| 50/50 [00:01<00:00, 40.42it/s, best loss: -1.0]               \n",
            "100%|██████████| 50/50 [00:01<00:00, 43.15it/s, best loss: -0.9918367346938777]\n",
            "100%|██████████| 50/50 [00:01<00:00, 39.46it/s, best loss: -0.9877551020408163]\n",
            "100%|██████████| 50/50 [00:01<00:00, 42.41it/s, best loss: -1.0]               \n",
            "100%|██████████| 50/50 [00:01<00:00, 41.63it/s, best loss: -1.0]              \n",
            "100%|██████████| 50/50 [00:01<00:00, 42.87it/s, best loss: -0.9918367346938777]\n",
            "100%|██████████| 50/50 [00:01<00:00, 40.79it/s, best loss: -0.9918367346938777]\n",
            "100%|██████████| 50/50 [00:01<00:00, 40.99it/s, best loss: -1.0]              \n",
            "100%|██████████| 50/50 [00:01<00:00, 40.48it/s, best loss: -1.0]\n",
            "100%|██████████| 50/50 [00:01<00:00, 37.77it/s, best loss: -0.9918367346938777]\n",
            "100%|██████████| 50/50 [00:01<00:00, 38.38it/s, best loss: -0.9959183673469388]\n",
            "100%|██████████| 50/50 [00:01<00:00, 36.56it/s, best loss: -1.0]              \n",
            "100%|██████████| 50/50 [00:01<00:00, 39.87it/s, best loss: -0.9795918367346939]\n",
            "100%|██████████| 50/50 [00:01<00:00, 40.00it/s, best loss: -0.9877551020408164]\n",
            "100%|██████████| 50/50 [00:01<00:00, 41.55it/s, best loss: -0.9795918367346939]\n",
            "100%|██████████| 50/50 [00:01<00:00, 33.84it/s, best loss: -0.9918367346938777]\n",
            "100%|██████████| 50/50 [00:01<00:00, 43.27it/s, best loss: -1.0]              \n",
            "100%|██████████| 50/50 [00:01<00:00, 44.36it/s, best loss: -1.0]               \n",
            "100%|██████████| 50/50 [00:01<00:00, 45.40it/s, best loss: -1.0]               \n",
            "100%|██████████| 50/50 [00:01<00:00, 40.84it/s, best loss: -1.0]               \n",
            "100%|██████████| 50/50 [00:01<00:00, 32.71it/s, best loss: -1.0]               \n",
            "100%|██████████| 50/50 [00:01<00:00, 38.50it/s, best loss: -0.9959183673469388]\n",
            "100%|██████████| 50/50 [00:01<00:00, 43.01it/s, best loss: -0.9877551020408163]\n",
            "100%|██████████| 50/50 [00:01<00:00, 40.14it/s, best loss: -0.9877551020408163]\n",
            "100%|██████████| 50/50 [00:01<00:00, 47.22it/s, best loss: -1.0]               \n",
            "100%|██████████| 50/50 [00:01<00:00, 45.26it/s, best loss: -0.9918367346938777]\n",
            "100%|██████████| 50/50 [00:01<00:00, 45.02it/s, best loss: -0.9836734693877551]\n",
            "100%|██████████| 50/50 [00:01<00:00, 41.99it/s, best loss: -0.9836734693877551]\n",
            "100%|██████████| 50/50 [00:01<00:00, 45.52it/s, best loss: -0.9959183673469388]\n",
            "100%|██████████| 50/50 [00:01<00:00, 42.77it/s, best loss: -1.0]               \n",
            "100%|██████████| 50/50 [00:01<00:00, 42.42it/s, best loss: -0.9877551020408163]\n",
            "100%|██████████| 50/50 [00:01<00:00, 40.48it/s, best loss: -0.9836734693877551]\n",
            "100%|██████████| 50/50 [00:02<00:00, 17.95it/s, best loss: -0.9959183673469388]\n"
          ]
        },
        {
          "output_type": "execute_result",
          "execution_count": 35,
          "data": {
            "text/plain": [
              "    Validation AUC                                    Hyperparameters\n",
              "0              1.0  {'C': 15.919266430236618, 'gamma': 18.75015649...\n",
              "44             1.0  {'C': 29.31312993307266, 'gamma': 18.821992483...\n",
              "81             1.0  {'C': 17.221755701343483, 'gamma': 13.95877904...\n",
              "9              1.0  {'C': 12.82016439466881, 'gamma': 3.7851097454...\n",
              "20             1.0  {'C': 23.037618032467222, 'gamma': 28.68632285..."
            ],
            "text/html": [
              "<div>\n",
              "<style scoped>\n",
              "    .dataframe tbody tr th:only-of-type {\n",
              "        vertical-align: middle;\n",
              "    }\n",
              "\n",
              "    .dataframe tbody tr th {\n",
              "        vertical-align: top;\n",
              "    }\n",
              "\n",
              "    .dataframe thead th {\n",
              "        text-align: right;\n",
              "    }\n",
              "</style>\n",
              "<table border=\"1\" class=\"dataframe\">\n",
              "  <thead>\n",
              "    <tr style=\"text-align: right;\">\n",
              "      <th></th>\n",
              "      <th>Validation AUC</th>\n",
              "      <th>Hyperparameters</th>\n",
              "    </tr>\n",
              "  </thead>\n",
              "  <tbody>\n",
              "    <tr>\n",
              "      <th>0</th>\n",
              "      <td>1.0</td>\n",
              "      <td>{'C': 15.919266430236618, 'gamma': 18.75015649...</td>\n",
              "    </tr>\n",
              "    <tr>\n",
              "      <th>44</th>\n",
              "      <td>1.0</td>\n",
              "      <td>{'C': 29.31312993307266, 'gamma': 18.821992483...</td>\n",
              "    </tr>\n",
              "    <tr>\n",
              "      <th>81</th>\n",
              "      <td>1.0</td>\n",
              "      <td>{'C': 17.221755701343483, 'gamma': 13.95877904...</td>\n",
              "    </tr>\n",
              "    <tr>\n",
              "      <th>9</th>\n",
              "      <td>1.0</td>\n",
              "      <td>{'C': 12.82016439466881, 'gamma': 3.7851097454...</td>\n",
              "    </tr>\n",
              "    <tr>\n",
              "      <th>20</th>\n",
              "      <td>1.0</td>\n",
              "      <td>{'C': 23.037618032467222, 'gamma': 28.68632285...</td>\n",
              "    </tr>\n",
              "  </tbody>\n",
              "</table>\n",
              "</div>"
            ]
          },
          "metadata": {}
        }
      ],
      "execution_count": 35,
      "metadata": {
        "collapsed": false,
        "outputHidden": false,
        "inputHidden": false
      }
    },
    {
      "cell_type": "markdown",
      "source": [
        "### Extra Trees Classifier (ET)"
      ],
      "metadata": {}
    },
    {
      "cell_type": "code",
      "source": [
        "# Define model\n",
        "model = 'ET'\n",
        "\n",
        "# Create empty lists to store validation AUC and associated hyperparameters\n",
        "outer_cv_aucs = []\n",
        "fold_hparams = []\n",
        "\n",
        "# Loop through outer folds\n",
        "for i in range(outer_folds):\n",
        "    # Partition into optimization dataset and validation dataset\n",
        "    X_opt, y_opt = X.loc[opt_idxs[i]], np.ravel(np.asarray(y.loc[opt_idxs[i]]))\n",
        "    X_val, y_val = X.loc[val_idxs[i]], np.ravel(np.asarray(y.loc[val_idxs[i]]))\n",
        "    \n",
        "    # Run Hyperopt\n",
        "    trials = Trials()\n",
        "    best = fmin(fn=f, space=hparam_space[model], algo=tpe.suggest, max_evals=50, trials=trials)\n",
        "    \n",
        "    # Define model using best inner loop hyperparameters\n",
        "    opt_model = ExtraTreesClassifier(max_depth = max_depths[best['max_depth']], \n",
        "                    max_features = max_features[best['max_features']], \n",
        "                    n_estimators = n_estimators[best['n_estimators']], \n",
        "                    criterion = criterions[best['criterion']])\n",
        "                  \n",
        "    # Train on optimization dataset, test validation dataset AUC\n",
        "    opt_model.fit(X_opt, pd.Series(y_opt))\n",
        "    preds = opt_model.predict(X_val)\n",
        "    opt_auc = roc_auc_score(y_val, preds)\n",
        "    \n",
        "    # Save performance and hyperparameters\n",
        "    outer_cv_aucs.append(opt_auc)\n",
        "    fold_hparams.append(best)\n",
        "    \n",
        "# Store in dataframe, sort outer loops by validation AUC, grab best performance\n",
        "ET_report = pd.DataFrame(data={'Validation AUC': outer_cv_aucs,\n",
        "                               'Hyperparameters': fold_hparams})\n",
        "ET_report = ET_report.sort_values('Validation AUC',ascending=False)\n",
        "opt_hparams['ET'] = ET_report.iloc[0]['Hyperparameters']\n",
        "ET_report.head()"
      ],
      "outputs": [],
      "execution_count": null,
      "metadata": {
        "collapsed": false,
        "outputHidden": false,
        "inputHidden": false
      }
    },
    {
      "cell_type": "markdown",
      "source": [
        "### Optimized Hyperparameters:"
      ],
      "metadata": {}
    },
    {
      "cell_type": "code",
      "source": [
        "print('SVC:',SVC_report.iloc[0])\n",
        "print('ET:',ET_report.iloc[0])"
      ],
      "outputs": [],
      "execution_count": null,
      "metadata": {
        "collapsed": false,
        "outputHidden": false,
        "inputHidden": false
      }
    }
  ],
  "metadata": {
    "kernel_info": {
      "name": "python3"
    },
    "language_info": {
      "name": "python",
      "version": "3.7.0",
      "mimetype": "text/x-python",
      "codemirror_mode": {
        "name": "ipython",
        "version": 3
      },
      "pygments_lexer": "ipython3",
      "nbconvert_exporter": "python",
      "file_extension": ".py"
    },
    "kernelspec": {
      "name": "python3",
      "language": "python",
      "display_name": "Python 3"
    },
    "nteract": {
      "version": "0.14.5"
    }
  },
  "nbformat": 4,
  "nbformat_minor": 0
}